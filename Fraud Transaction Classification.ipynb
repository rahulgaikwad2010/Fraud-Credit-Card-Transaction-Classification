{
 "cells": [
  {
   "cell_type": "markdown",
   "metadata": {},
   "source": [
    "### Import necessary libraries"
   ]
  },
  {
   "cell_type": "code",
   "execution_count": 124,
   "metadata": {
    "ExecuteTime": {
     "end_time": "2020-11-15T08:02:57.989766Z",
     "start_time": "2020-11-15T08:02:57.975809Z"
    }
   },
   "outputs": [],
   "source": [
    "# Data representation and computation\n",
    "import pandas as pd  \n",
    "import numpy as np  \n",
    "pd.options.display.float_format = '{:20,.4f}'.format\n",
    "\n",
    "# Graph plotting\n",
    "import matplotlib.pyplot as plt  \n",
    "import seaborn as sns\n",
    "\n",
    "# Data splitting, feature engg., and pipeline to train machine learning models\n",
    "from sklearn.model_selection import train_test_split \n",
    "from sklearn.pipeline import Pipeline\n",
    "from sklearn import metrics\n",
    "from sklearn.utils import shuffle\n",
    "from sklearn.metrics import classification_report\n",
    "from sklearn.metrics import confusion_matrix\n",
    "from sklearn.metrics import accuracy_score, f1_score, recall_score, precision_score\n",
    "\n",
    "\n",
    "# Machine learning models\n",
    "from sklearn.linear_model import SGDClassifier\n",
    "from sklearn.ensemble import GradientBoostingClassifier\n",
    "import lightgbm as lgb\n",
    "from xgboost import XGBClassifier\n",
    "\n",
    "# Miscellaneous\n",
    "import warnings\n",
    "from prettytable import PrettyTable\n",
    "\n",
    "# Declaration\n",
    "warnings.filterwarnings('ignore')\n",
    "%precision 2\n",
    "%matplotlib inline\n",
    "sns.set(font_scale=1)"
   ]
  },
  {
   "cell_type": "markdown",
   "metadata": {},
   "source": [
    "### Load Data"
   ]
  },
  {
   "cell_type": "code",
   "execution_count": 69,
   "metadata": {
    "ExecuteTime": {
     "end_time": "2020-11-15T07:05:44.676938Z",
     "start_time": "2020-11-15T07:05:00.940925Z"
    }
   },
   "outputs": [],
   "source": [
    "import json\n",
    "with open(r\"data/transactions.txt\",\"r+\") as f:\n",
    "    llst_transaction_records = f.readlines()\n",
    "llst_transaction_records = [json.loads(item) for item in llst_transaction_records]\n",
    "ldf_training_dataset = pd.DataFrame(llst_transaction_records)\n",
    "\n",
    "ldf_training_dataset['transactionDateTime'] = pd.to_datetime(ldf_training_dataset['transactionDateTime'])"
   ]
  },
  {
   "cell_type": "code",
   "execution_count": 70,
   "metadata": {
    "ExecuteTime": {
     "end_time": "2020-11-15T07:05:44.962688Z",
     "start_time": "2020-11-15T07:05:44.712158Z"
    }
   },
   "outputs": [
    {
     "data": {
      "text/html": [
       "<div>\n",
       "<style scoped>\n",
       "    .dataframe tbody tr th:only-of-type {\n",
       "        vertical-align: middle;\n",
       "    }\n",
       "\n",
       "    .dataframe tbody tr th {\n",
       "        vertical-align: top;\n",
       "    }\n",
       "\n",
       "    .dataframe thead th {\n",
       "        text-align: right;\n",
       "    }\n",
       "</style>\n",
       "<table border=\"1\" class=\"dataframe\">\n",
       "  <thead>\n",
       "    <tr style=\"text-align: right;\">\n",
       "      <th></th>\n",
       "      <th>accountNumber</th>\n",
       "      <th>customerId</th>\n",
       "      <th>creditLimit</th>\n",
       "      <th>availableMoney</th>\n",
       "      <th>transactionDateTime</th>\n",
       "      <th>transactionAmount</th>\n",
       "      <th>merchantName</th>\n",
       "      <th>acqCountry</th>\n",
       "      <th>merchantCountryCode</th>\n",
       "      <th>posEntryMode</th>\n",
       "      <th>...</th>\n",
       "      <th>echoBuffer</th>\n",
       "      <th>currentBalance</th>\n",
       "      <th>merchantCity</th>\n",
       "      <th>merchantState</th>\n",
       "      <th>merchantZip</th>\n",
       "      <th>cardPresent</th>\n",
       "      <th>posOnPremises</th>\n",
       "      <th>recurringAuthInd</th>\n",
       "      <th>expirationDateKeyInMatch</th>\n",
       "      <th>isFraud</th>\n",
       "    </tr>\n",
       "  </thead>\n",
       "  <tbody>\n",
       "    <tr>\n",
       "      <td>0</td>\n",
       "      <td>737265056</td>\n",
       "      <td>737265056</td>\n",
       "      <td>5000.0</td>\n",
       "      <td>5000.0</td>\n",
       "      <td>2016-08-13 14:27:32</td>\n",
       "      <td>98.55</td>\n",
       "      <td>Uber</td>\n",
       "      <td>US</td>\n",
       "      <td>US</td>\n",
       "      <td>02</td>\n",
       "      <td>...</td>\n",
       "      <td></td>\n",
       "      <td>0.0</td>\n",
       "      <td></td>\n",
       "      <td></td>\n",
       "      <td></td>\n",
       "      <td>False</td>\n",
       "      <td></td>\n",
       "      <td></td>\n",
       "      <td>False</td>\n",
       "      <td>False</td>\n",
       "    </tr>\n",
       "    <tr>\n",
       "      <td>1</td>\n",
       "      <td>737265056</td>\n",
       "      <td>737265056</td>\n",
       "      <td>5000.0</td>\n",
       "      <td>5000.0</td>\n",
       "      <td>2016-10-11 05:05:54</td>\n",
       "      <td>74.51</td>\n",
       "      <td>AMC #191138</td>\n",
       "      <td>US</td>\n",
       "      <td>US</td>\n",
       "      <td>09</td>\n",
       "      <td>...</td>\n",
       "      <td></td>\n",
       "      <td>0.0</td>\n",
       "      <td></td>\n",
       "      <td></td>\n",
       "      <td></td>\n",
       "      <td>True</td>\n",
       "      <td></td>\n",
       "      <td></td>\n",
       "      <td>False</td>\n",
       "      <td>False</td>\n",
       "    </tr>\n",
       "    <tr>\n",
       "      <td>2</td>\n",
       "      <td>737265056</td>\n",
       "      <td>737265056</td>\n",
       "      <td>5000.0</td>\n",
       "      <td>5000.0</td>\n",
       "      <td>2016-11-08 09:18:39</td>\n",
       "      <td>7.47</td>\n",
       "      <td>Play Store</td>\n",
       "      <td>US</td>\n",
       "      <td>US</td>\n",
       "      <td>09</td>\n",
       "      <td>...</td>\n",
       "      <td></td>\n",
       "      <td>0.0</td>\n",
       "      <td></td>\n",
       "      <td></td>\n",
       "      <td></td>\n",
       "      <td>False</td>\n",
       "      <td></td>\n",
       "      <td></td>\n",
       "      <td>False</td>\n",
       "      <td>False</td>\n",
       "    </tr>\n",
       "    <tr>\n",
       "      <td>3</td>\n",
       "      <td>737265056</td>\n",
       "      <td>737265056</td>\n",
       "      <td>5000.0</td>\n",
       "      <td>5000.0</td>\n",
       "      <td>2016-12-10 02:14:50</td>\n",
       "      <td>7.47</td>\n",
       "      <td>Play Store</td>\n",
       "      <td>US</td>\n",
       "      <td>US</td>\n",
       "      <td>09</td>\n",
       "      <td>...</td>\n",
       "      <td></td>\n",
       "      <td>0.0</td>\n",
       "      <td></td>\n",
       "      <td></td>\n",
       "      <td></td>\n",
       "      <td>False</td>\n",
       "      <td></td>\n",
       "      <td></td>\n",
       "      <td>False</td>\n",
       "      <td>False</td>\n",
       "    </tr>\n",
       "    <tr>\n",
       "      <td>4</td>\n",
       "      <td>830329091</td>\n",
       "      <td>830329091</td>\n",
       "      <td>5000.0</td>\n",
       "      <td>5000.0</td>\n",
       "      <td>2016-03-24 21:04:46</td>\n",
       "      <td>71.18</td>\n",
       "      <td>Tim Hortons #947751</td>\n",
       "      <td>US</td>\n",
       "      <td>US</td>\n",
       "      <td>02</td>\n",
       "      <td>...</td>\n",
       "      <td></td>\n",
       "      <td>0.0</td>\n",
       "      <td></td>\n",
       "      <td></td>\n",
       "      <td></td>\n",
       "      <td>True</td>\n",
       "      <td></td>\n",
       "      <td></td>\n",
       "      <td>False</td>\n",
       "      <td>False</td>\n",
       "    </tr>\n",
       "  </tbody>\n",
       "</table>\n",
       "<p>5 rows × 29 columns</p>\n",
       "</div>"
      ],
      "text/plain": [
       "  accountNumber customerId  creditLimit  availableMoney transactionDateTime  \\\n",
       "0     737265056  737265056       5000.0          5000.0 2016-08-13 14:27:32   \n",
       "1     737265056  737265056       5000.0          5000.0 2016-10-11 05:05:54   \n",
       "2     737265056  737265056       5000.0          5000.0 2016-11-08 09:18:39   \n",
       "3     737265056  737265056       5000.0          5000.0 2016-12-10 02:14:50   \n",
       "4     830329091  830329091       5000.0          5000.0 2016-03-24 21:04:46   \n",
       "\n",
       "   transactionAmount         merchantName acqCountry merchantCountryCode  \\\n",
       "0              98.55                 Uber         US                  US   \n",
       "1              74.51          AMC #191138         US                  US   \n",
       "2               7.47           Play Store         US                  US   \n",
       "3               7.47           Play Store         US                  US   \n",
       "4              71.18  Tim Hortons #947751         US                  US   \n",
       "\n",
       "  posEntryMode  ... echoBuffer currentBalance merchantCity merchantState  \\\n",
       "0           02  ...                       0.0                              \n",
       "1           09  ...                       0.0                              \n",
       "2           09  ...                       0.0                              \n",
       "3           09  ...                       0.0                              \n",
       "4           02  ...                       0.0                              \n",
       "\n",
       "  merchantZip cardPresent posOnPremises recurringAuthInd  \\\n",
       "0                   False                                  \n",
       "1                    True                                  \n",
       "2                   False                                  \n",
       "3                   False                                  \n",
       "4                    True                                  \n",
       "\n",
       "  expirationDateKeyInMatch isFraud  \n",
       "0                    False   False  \n",
       "1                    False   False  \n",
       "2                    False   False  \n",
       "3                    False   False  \n",
       "4                    False   False  \n",
       "\n",
       "[5 rows x 29 columns]"
      ]
     },
     "execution_count": 70,
     "metadata": {},
     "output_type": "execute_result"
    }
   ],
   "source": [
    "ldf_training_dataset.head()"
   ]
  },
  {
   "cell_type": "markdown",
   "metadata": {},
   "source": [
    "## 1- Describe the structure of the date (statistical summary: number of records, counting max, min, null,...)"
   ]
  },
  {
   "cell_type": "markdown",
   "metadata": {},
   "source": [
    "##### Statistical summary"
   ]
  },
  {
   "cell_type": "code",
   "execution_count": 71,
   "metadata": {
    "ExecuteTime": {
     "end_time": "2020-11-15T07:05:44.990487Z",
     "start_time": "2020-11-15T07:05:44.971485Z"
    }
   },
   "outputs": [
    {
     "name": "stdout",
     "output_type": "stream",
     "text": [
      "Number of records: 786363\n"
     ]
    }
   ],
   "source": [
    "print(\"Number of records: \"+str(len(ldf_training_dataset)))"
   ]
  },
  {
   "cell_type": "code",
   "execution_count": 72,
   "metadata": {
    "ExecuteTime": {
     "end_time": "2020-11-15T07:05:45.224567Z",
     "start_time": "2020-11-15T07:05:44.996915Z"
    }
   },
   "outputs": [
    {
     "data": {
      "text/html": [
       "<div>\n",
       "<style scoped>\n",
       "    .dataframe tbody tr th:only-of-type {\n",
       "        vertical-align: middle;\n",
       "    }\n",
       "\n",
       "    .dataframe tbody tr th {\n",
       "        vertical-align: top;\n",
       "    }\n",
       "\n",
       "    .dataframe thead th {\n",
       "        text-align: right;\n",
       "    }\n",
       "</style>\n",
       "<table border=\"1\" class=\"dataframe\">\n",
       "  <thead>\n",
       "    <tr style=\"text-align: right;\">\n",
       "      <th></th>\n",
       "      <th>creditLimit</th>\n",
       "      <th>availableMoney</th>\n",
       "      <th>transactionAmount</th>\n",
       "      <th>currentBalance</th>\n",
       "    </tr>\n",
       "  </thead>\n",
       "  <tbody>\n",
       "    <tr>\n",
       "      <td>count</td>\n",
       "      <td>786363.000000</td>\n",
       "      <td>786363.000000</td>\n",
       "      <td>786363.000000</td>\n",
       "      <td>786363.000000</td>\n",
       "    </tr>\n",
       "    <tr>\n",
       "      <td>mean</td>\n",
       "      <td>10759.464459</td>\n",
       "      <td>6250.725369</td>\n",
       "      <td>136.985791</td>\n",
       "      <td>4508.739089</td>\n",
       "    </tr>\n",
       "    <tr>\n",
       "      <td>std</td>\n",
       "      <td>11636.174890</td>\n",
       "      <td>8880.783989</td>\n",
       "      <td>147.725569</td>\n",
       "      <td>6457.442068</td>\n",
       "    </tr>\n",
       "    <tr>\n",
       "      <td>min</td>\n",
       "      <td>250.000000</td>\n",
       "      <td>-1005.630000</td>\n",
       "      <td>0.000000</td>\n",
       "      <td>0.000000</td>\n",
       "    </tr>\n",
       "    <tr>\n",
       "      <td>25%</td>\n",
       "      <td>5000.000000</td>\n",
       "      <td>1077.420000</td>\n",
       "      <td>33.650000</td>\n",
       "      <td>689.910000</td>\n",
       "    </tr>\n",
       "    <tr>\n",
       "      <td>50%</td>\n",
       "      <td>7500.000000</td>\n",
       "      <td>3184.860000</td>\n",
       "      <td>87.900000</td>\n",
       "      <td>2451.760000</td>\n",
       "    </tr>\n",
       "    <tr>\n",
       "      <td>75%</td>\n",
       "      <td>15000.000000</td>\n",
       "      <td>7500.000000</td>\n",
       "      <td>191.480000</td>\n",
       "      <td>5291.095000</td>\n",
       "    </tr>\n",
       "    <tr>\n",
       "      <td>max</td>\n",
       "      <td>50000.000000</td>\n",
       "      <td>50000.000000</td>\n",
       "      <td>2011.540000</td>\n",
       "      <td>47498.810000</td>\n",
       "    </tr>\n",
       "  </tbody>\n",
       "</table>\n",
       "</div>"
      ],
      "text/plain": [
       "         creditLimit  availableMoney  transactionAmount  currentBalance\n",
       "count  786363.000000   786363.000000      786363.000000   786363.000000\n",
       "mean    10759.464459     6250.725369         136.985791     4508.739089\n",
       "std     11636.174890     8880.783989         147.725569     6457.442068\n",
       "min       250.000000    -1005.630000           0.000000        0.000000\n",
       "25%      5000.000000     1077.420000          33.650000      689.910000\n",
       "50%      7500.000000     3184.860000          87.900000     2451.760000\n",
       "75%     15000.000000     7500.000000         191.480000     5291.095000\n",
       "max     50000.000000    50000.000000        2011.540000    47498.810000"
      ]
     },
     "execution_count": 72,
     "metadata": {},
     "output_type": "execute_result"
    }
   ],
   "source": [
    "ldf_training_dataset.describe()"
   ]
  },
  {
   "cell_type": "code",
   "execution_count": 73,
   "metadata": {
    "ExecuteTime": {
     "end_time": "2020-11-15T07:05:47.367531Z",
     "start_time": "2020-11-15T07:05:45.227613Z"
    }
   },
   "outputs": [
    {
     "name": "stdout",
     "output_type": "stream",
     "text": [
      "<class 'pandas.core.frame.DataFrame'>\n",
      "RangeIndex: 786363 entries, 0 to 786362\n",
      "Data columns (total 29 columns):\n",
      "accountNumber               786363 non-null object\n",
      "customerId                  786363 non-null object\n",
      "creditLimit                 786363 non-null float64\n",
      "availableMoney              786363 non-null float64\n",
      "transactionDateTime         786363 non-null datetime64[ns]\n",
      "transactionAmount           786363 non-null float64\n",
      "merchantName                786363 non-null object\n",
      "acqCountry                  786363 non-null object\n",
      "merchantCountryCode         786363 non-null object\n",
      "posEntryMode                786363 non-null object\n",
      "posConditionCode            786363 non-null object\n",
      "merchantCategoryCode        786363 non-null object\n",
      "currentExpDate              786363 non-null object\n",
      "accountOpenDate             786363 non-null object\n",
      "dateOfLastAddressChange     786363 non-null object\n",
      "cardCVV                     786363 non-null object\n",
      "enteredCVV                  786363 non-null object\n",
      "cardLast4Digits             786363 non-null object\n",
      "transactionType             786363 non-null object\n",
      "echoBuffer                  786363 non-null object\n",
      "currentBalance              786363 non-null float64\n",
      "merchantCity                786363 non-null object\n",
      "merchantState               786363 non-null object\n",
      "merchantZip                 786363 non-null object\n",
      "cardPresent                 786363 non-null bool\n",
      "posOnPremises               786363 non-null object\n",
      "recurringAuthInd            786363 non-null object\n",
      "expirationDateKeyInMatch    786363 non-null bool\n",
      "isFraud                     786363 non-null bool\n",
      "dtypes: bool(3), datetime64[ns](1), float64(4), object(21)\n",
      "memory usage: 158.2+ MB\n"
     ]
    }
   ],
   "source": [
    "ldf_training_dataset.info()"
   ]
  },
  {
   "cell_type": "code",
   "execution_count": 74,
   "metadata": {
    "ExecuteTime": {
     "end_time": "2020-11-15T07:05:49.512291Z",
     "start_time": "2020-11-15T07:05:47.369526Z"
    }
   },
   "outputs": [
    {
     "data": {
      "text/plain": [
       "accountNumber               0\n",
       "customerId                  0\n",
       "creditLimit                 0\n",
       "availableMoney              0\n",
       "transactionDateTime         0\n",
       "transactionAmount           0\n",
       "merchantName                0\n",
       "acqCountry                  0\n",
       "merchantCountryCode         0\n",
       "posEntryMode                0\n",
       "posConditionCode            0\n",
       "merchantCategoryCode        0\n",
       "currentExpDate              0\n",
       "accountOpenDate             0\n",
       "dateOfLastAddressChange     0\n",
       "cardCVV                     0\n",
       "enteredCVV                  0\n",
       "cardLast4Digits             0\n",
       "transactionType             0\n",
       "echoBuffer                  0\n",
       "currentBalance              0\n",
       "merchantCity                0\n",
       "merchantState               0\n",
       "merchantZip                 0\n",
       "cardPresent                 0\n",
       "posOnPremises               0\n",
       "recurringAuthInd            0\n",
       "expirationDateKeyInMatch    0\n",
       "isFraud                     0\n",
       "dtype: int64"
      ]
     },
     "execution_count": 74,
     "metadata": {},
     "output_type": "execute_result"
    }
   ],
   "source": [
    "ldf_training_dataset.isna().sum()"
   ]
  },
  {
   "cell_type": "markdown",
   "metadata": {},
   "source": [
    "## 2- Plotting histogram of \"transactionAmount\" column"
   ]
  },
  {
   "cell_type": "markdown",
   "metadata": {},
   "source": [
    "##### Plotting bar-chart of \"isFraud`\" column."
   ]
  },
  {
   "cell_type": "code",
   "execution_count": 75,
   "metadata": {
    "ExecuteTime": {
     "end_time": "2020-11-15T07:05:49.983048Z",
     "start_time": "2020-11-15T07:05:49.515102Z"
    }
   },
   "outputs": [
    {
     "data": {
      "text/plain": [
       "<matplotlib.axes._subplots.AxesSubplot at 0x221765b22c8>"
      ]
     },
     "execution_count": 75,
     "metadata": {},
     "output_type": "execute_result"
    },
    {
     "data": {
      "image/png": "[encoded data removed]",
      "text/plain": [
       "<Figure size 432x288 with 1 Axes>"
      ]
     },
     "metadata": {},
     "output_type": "display_data"
    }
   ],
   "source": [
    "ldf_temp = ldf_training_dataset.isFraud.value_counts().to_frame(\"_count\")\n",
    "ldf_temp.plot(kind=\"bar\")"
   ]
  },
  {
   "cell_type": "markdown",
   "metadata": {},
   "source": [
    "##### Plotting histogram of \"transactionAmount\" column."
   ]
  },
  {
   "cell_type": "code",
   "execution_count": 76,
   "metadata": {
    "ExecuteTime": {
     "end_time": "2020-11-15T07:05:50.572136Z",
     "start_time": "2020-11-15T07:05:49.990470Z"
    }
   },
   "outputs": [
    {
     "data": {
      "text/plain": [
       "<matplotlib.axes._subplots.AxesSubplot at 0x222804772c8>"
      ]
     },
     "execution_count": 76,
     "metadata": {},
     "output_type": "execute_result"
    },
    {
     "data": {
      "image/png": "[encoded data removed]",
      "text/plain": [
       "<Figure size 432x288 with 1 Axes>"
      ]
     },
     "metadata": {},
     "output_type": "display_data"
    }
   ],
   "source": [
    "ldf_training_dataset['transactionAmount'].plot.hist()"
   ]
  },
  {
   "cell_type": "markdown",
   "metadata": {},
   "source": [
    "## 3.1 - Identifying Duplicate Transactions"
   ]
  },
  {
   "cell_type": "markdown",
   "metadata": {},
   "source": [
    "#### To identify Multi-swipe transactions, using groupby and diff to check whether the difference between successive transactions is less than 300 seconds (5 minutes)."
   ]
  },
  {
   "cell_type": "code",
   "execution_count": 77,
   "metadata": {
    "ExecuteTime": {
     "end_time": "2020-11-15T07:10:46.861585Z",
     "start_time": "2020-11-15T07:05:50.575680Z"
    }
   },
   "outputs": [],
   "source": [
    "ldf_training_dataset['IsDuplicate'] = (ldf_training_dataset.sort_values(['transactionDateTime'])\n",
    "                       .groupby(['accountNumber', 'transactionAmount', 'merchantName'], sort=False)['transactionDateTime']\n",
    "                       .diff()\n",
    "                       .dt.total_seconds()\n",
    "                       .lt(300))"
   ]
  },
  {
   "cell_type": "markdown",
   "metadata": {},
   "source": [
    "#### If the Account Number, Transaction Amount, Merchant Name are same and the transaction happened within 300 seconds, the first transaction is considered as Normal, all the others are considered as Multi-swipe"
   ]
  },
  {
   "cell_type": "code",
   "execution_count": 78,
   "metadata": {
    "ExecuteTime": {
     "end_time": "2020-11-15T07:10:46.939378Z",
     "start_time": "2020-11-15T07:10:46.874550Z"
    }
   },
   "outputs": [
    {
     "data": {
      "text/html": [
       "<div>\n",
       "<style scoped>\n",
       "    .dataframe tbody tr th:only-of-type {\n",
       "        vertical-align: middle;\n",
       "    }\n",
       "\n",
       "    .dataframe tbody tr th {\n",
       "        vertical-align: top;\n",
       "    }\n",
       "\n",
       "    .dataframe thead th {\n",
       "        text-align: right;\n",
       "    }\n",
       "</style>\n",
       "<table border=\"1\" class=\"dataframe\">\n",
       "  <thead>\n",
       "    <tr style=\"text-align: right;\">\n",
       "      <th></th>\n",
       "      <th>Count</th>\n",
       "    </tr>\n",
       "  </thead>\n",
       "  <tbody>\n",
       "    <tr>\n",
       "      <td>False</td>\n",
       "      <td>772960</td>\n",
       "    </tr>\n",
       "    <tr>\n",
       "      <td>True</td>\n",
       "      <td>13403</td>\n",
       "    </tr>\n",
       "  </tbody>\n",
       "</table>\n",
       "</div>"
      ],
      "text/plain": [
       "        Count\n",
       "False  772960\n",
       "True    13403"
      ]
     },
     "execution_count": 78,
     "metadata": {},
     "output_type": "execute_result"
    }
   ],
   "source": [
    "ldf_training_dataset.IsDuplicate.value_counts().to_frame(\"Count\")"
   ]
  },
  {
   "cell_type": "markdown",
   "metadata": {},
   "source": [
    "#### To identify Reversed transactions, using the Transaction Type column"
   ]
  },
  {
   "cell_type": "code",
   "execution_count": 79,
   "metadata": {
    "ExecuteTime": {
     "end_time": "2020-11-15T07:10:47.268245Z",
     "start_time": "2020-11-15T07:10:46.941374Z"
    }
   },
   "outputs": [
    {
     "data": {
      "text/html": [
       "<div>\n",
       "<style scoped>\n",
       "    .dataframe tbody tr th:only-of-type {\n",
       "        vertical-align: middle;\n",
       "    }\n",
       "\n",
       "    .dataframe tbody tr th {\n",
       "        vertical-align: top;\n",
       "    }\n",
       "\n",
       "    .dataframe thead th {\n",
       "        text-align: right;\n",
       "    }\n",
       "</style>\n",
       "<table border=\"1\" class=\"dataframe\">\n",
       "  <thead>\n",
       "    <tr style=\"text-align: right;\">\n",
       "      <th></th>\n",
       "      <th>Count</th>\n",
       "    </tr>\n",
       "  </thead>\n",
       "  <tbody>\n",
       "    <tr>\n",
       "      <td>PURCHASE</td>\n",
       "      <td>745193</td>\n",
       "    </tr>\n",
       "    <tr>\n",
       "      <td>REVERSAL</td>\n",
       "      <td>20303</td>\n",
       "    </tr>\n",
       "    <tr>\n",
       "      <td>ADDRESS_VERIFICATION</td>\n",
       "      <td>20169</td>\n",
       "    </tr>\n",
       "    <tr>\n",
       "      <td></td>\n",
       "      <td>698</td>\n",
       "    </tr>\n",
       "  </tbody>\n",
       "</table>\n",
       "</div>"
      ],
      "text/plain": [
       "                       Count\n",
       "PURCHASE              745193\n",
       "REVERSAL               20303\n",
       "ADDRESS_VERIFICATION   20169\n",
       "                         698"
      ]
     },
     "execution_count": 79,
     "metadata": {},
     "output_type": "execute_result"
    }
   ],
   "source": [
    "ldf_training_dataset.transactionType.value_counts().to_frame(\"Count\")"
   ]
  },
  {
   "cell_type": "markdown",
   "metadata": {},
   "source": [
    "## 3.2 -Estimating the total number and dollar amount of Normal & Duplicate Transactions."
   ]
  },
  {
   "cell_type": "code",
   "execution_count": 80,
   "metadata": {
    "ExecuteTime": {
     "end_time": "2020-11-15T07:10:48.486147Z",
     "start_time": "2020-11-15T07:10:47.269877Z"
    }
   },
   "outputs": [
    {
     "name": "stdout",
     "output_type": "stream",
     "text": [
      "\n",
      "A - Normal (Excluding Duplicates)\n",
      "+-------------------------------+---------------------+---------------+\n",
      "|                               | No. of Transactions | Doller Amount |\n",
      "+-------------------------------+---------------------+---------------+\n",
      "| Normal (Excluding Duplicates) |        758380       |   103794758   |\n",
      "+-------------------------------+---------------------+---------------+\n"
     ]
    }
   ],
   "source": [
    "Model_Accuracy = PrettyTable()\n",
    "Model_Accuracy.field_names = [\"\",\"No. of Transactions\", \"Doller Amount\"]\n",
    "Model_Accuracy.align[\"\"] = \"r\"\n",
    "ldf_training_dataset_normal = ldf_training_dataset[(ldf_training_dataset['transactionType']!=\"REVERSAL\") &\n",
    "                                           (ldf_training_dataset['IsDuplicate'] == False)]\n",
    "\n",
    "Model_Accuracy.add_row([\"Normal (Excluding Duplicates)\",len(ldf_training_dataset_normal), \n",
    "                        round(sum(ldf_training_dataset_normal['transactionAmount']))])\n",
    "print(\"\\nA - Normal (Excluding Duplicates)\")\n",
    "print(Model_Accuracy)"
   ]
  },
  {
   "cell_type": "code",
   "execution_count": 81,
   "metadata": {
    "ExecuteTime": {
     "end_time": "2020-11-15T07:10:48.818559Z",
     "start_time": "2020-11-15T07:10:48.491532Z"
    }
   },
   "outputs": [
    {
     "name": "stdout",
     "output_type": "stream",
     "text": [
      "\n",
      "B - Duplicates(Reversal + Multi-Swipe)\n",
      "+------------------------+---------------------+---------------+\n",
      "|                        | No. of Transactions | Doller Amount |\n",
      "+------------------------+---------------------+---------------+\n",
      "|               Reversal |        20303        |    2821792    |\n",
      "|            Multi-Swipe |         7680        |    1104007    |\n",
      "|                        |         ----        |      ----     |\n",
      "| Reversal + Multi-Swipe |        27983        |    3925799    |\n",
      "+------------------------+---------------------+---------------+\n"
     ]
    }
   ],
   "source": [
    "# =====================================================================================================\n",
    "\n",
    "Model_Accuracy = PrettyTable()\n",
    "Model_Accuracy.field_names = [\"\",\"No. of Transactions\", \"Doller Amount\"]\n",
    "Model_Accuracy.align[\"\"] = \"r\"\n",
    "ldf_training_dataset_rev = ldf_training_dataset[ldf_training_dataset[\"transactionType\"] == \"REVERSAL\"]\n",
    "ldf_training_dataset_multi_swipe = ldf_training_dataset[(ldf_training_dataset['transactionType']!=\"REVERSAL\") &\n",
    "                                           (ldf_training_dataset['IsDuplicate'] == True)]\n",
    "\n",
    "Model_Accuracy.add_row([\"Reversal\",len(ldf_training_dataset_rev), \n",
    "                        round(sum(ldf_training_dataset_rev['transactionAmount']))])\n",
    "Model_Accuracy.add_row([\"Multi-Swipe\",len(ldf_training_dataset_multi_swipe), \n",
    "                        round(sum(ldf_training_dataset_multi_swipe['transactionAmount']))])\n",
    "Model_Accuracy.add_row([\"\",\"----\",\"----\"])\n",
    "Model_Accuracy.add_row([\"Reversal + Multi-Swipe\",int(len(ldf_training_dataset_rev)+\n",
    "                                                            len(ldf_training_dataset_multi_swipe)),\n",
    "                        round(sum(ldf_training_dataset_rev['transactionAmount']))+\n",
    "                       round(sum(ldf_training_dataset_multi_swipe['transactionAmount']))])\n",
    "\n",
    "print(\"\\nB - Duplicates(Reversal + Multi-Swipe)\")\n",
    "print(Model_Accuracy)"
   ]
  },
  {
   "cell_type": "code",
   "execution_count": 82,
   "metadata": {
    "ExecuteTime": {
     "end_time": "2020-11-15T07:10:48.881392Z",
     "start_time": "2020-11-15T07:10:48.820553Z"
    }
   },
   "outputs": [
    {
     "name": "stdout",
     "output_type": "stream",
     "text": [
      "\n",
      "C = A + B (Normal & Duplicate both)\n",
      "+-------+---------------------+---------------+\n",
      "|       | No. of Transactions | Doller Amount |\n",
      "+-------+---------------------+---------------+\n",
      "| A + B |        786363       |   107720557   |\n",
      "+-------+---------------------+---------------+\n"
     ]
    }
   ],
   "source": [
    "# =====================================================================================================\n",
    "\n",
    "Model_Accuracy = PrettyTable()\n",
    "Model_Accuracy.field_names = [\"\",\"No. of Transactions\", \"Doller Amount\"]\n",
    "Model_Accuracy.align[\"\"] = \"r\"\n",
    "\n",
    "Model_Accuracy.add_row([\"A + B\",len(ldf_training_dataset_normal)+\n",
    "                                    (len(ldf_training_dataset_rev)+len(ldf_training_dataset_multi_swipe)),\n",
    "                        (round(sum(ldf_training_dataset_rev['transactionAmount']))+\n",
    "                       round(sum(ldf_training_dataset_multi_swipe['transactionAmount'])))+\n",
    "                       round(sum(ldf_training_dataset_normal['transactionAmount']))])\n",
    "print(\"\\nC = A + B (Normal & Duplicate both)\")\n",
    "print(Model_Accuracy)"
   ]
  },
  {
   "cell_type": "markdown",
   "metadata": {},
   "source": [
    "## 4 - Modeling"
   ]
  },
  {
   "cell_type": "markdown",
   "metadata": {},
   "source": [
    "### Sampling to make the dataset balanced"
   ]
  },
  {
   "cell_type": "code",
   "execution_count": 83,
   "metadata": {
    "ExecuteTime": {
     "end_time": "2020-11-15T07:10:48.912340Z",
     "start_time": "2020-11-15T07:10:48.883386Z"
    }
   },
   "outputs": [
    {
     "data": {
      "text/html": [
       "<div>\n",
       "<style scoped>\n",
       "    .dataframe tbody tr th:only-of-type {\n",
       "        vertical-align: middle;\n",
       "    }\n",
       "\n",
       "    .dataframe tbody tr th {\n",
       "        vertical-align: top;\n",
       "    }\n",
       "\n",
       "    .dataframe thead th {\n",
       "        text-align: right;\n",
       "    }\n",
       "</style>\n",
       "<table border=\"1\" class=\"dataframe\">\n",
       "  <thead>\n",
       "    <tr style=\"text-align: right;\">\n",
       "      <th></th>\n",
       "      <th>Count</th>\n",
       "    </tr>\n",
       "  </thead>\n",
       "  <tbody>\n",
       "    <tr>\n",
       "      <td>False</td>\n",
       "      <td>773946</td>\n",
       "    </tr>\n",
       "    <tr>\n",
       "      <td>True</td>\n",
       "      <td>12417</td>\n",
       "    </tr>\n",
       "  </tbody>\n",
       "</table>\n",
       "</div>"
      ],
      "text/plain": [
       "        Count\n",
       "False  773946\n",
       "True    12417"
      ]
     },
     "execution_count": 83,
     "metadata": {},
     "output_type": "execute_result"
    }
   ],
   "source": [
    "ldf_training_dataset.isFraud.value_counts().to_frame(\"Count\")"
   ]
  },
  {
   "cell_type": "markdown",
   "metadata": {},
   "source": [
    "__Since the number of isFraud=True cases is very low as compared to the isFraud=False cases, we will take out a balanced sample by keeping all the records of isFraud=True cases and taking only 18,000 records of isFraud=False cases.__"
   ]
  },
  {
   "cell_type": "code",
   "execution_count": 84,
   "metadata": {
    "ExecuteTime": {
     "end_time": "2020-11-15T07:10:50.379439Z",
     "start_time": "2020-11-15T07:10:48.913355Z"
    }
   },
   "outputs": [
    {
     "name": "stdout",
     "output_type": "stream",
     "text": [
      "Number of records after under-sampling: 30417\n"
     ]
    }
   ],
   "source": [
    "ldf_training_dataset_2 = ldf_training_dataset.groupby('isFraud', group_keys=False).apply(lambda x:x.sample(min(len(x), 18000)))\n",
    "ldf_training_dataset_2 = ldf_training_dataset_2.reset_index(drop=True)\n",
    "print(\"Number of records after under-sampling: \"+str(len(ldf_training_dataset_2.isFraud)))"
   ]
  },
  {
   "cell_type": "code",
   "execution_count": 85,
   "metadata": {
    "ExecuteTime": {
     "end_time": "2020-11-15T07:10:50.394399Z",
     "start_time": "2020-11-15T07:10:50.381433Z"
    }
   },
   "outputs": [
    {
     "data": {
      "text/html": [
       "<div>\n",
       "<style scoped>\n",
       "    .dataframe tbody tr th:only-of-type {\n",
       "        vertical-align: middle;\n",
       "    }\n",
       "\n",
       "    .dataframe tbody tr th {\n",
       "        vertical-align: top;\n",
       "    }\n",
       "\n",
       "    .dataframe thead th {\n",
       "        text-align: right;\n",
       "    }\n",
       "</style>\n",
       "<table border=\"1\" class=\"dataframe\">\n",
       "  <thead>\n",
       "    <tr style=\"text-align: right;\">\n",
       "      <th></th>\n",
       "      <th>Count</th>\n",
       "    </tr>\n",
       "  </thead>\n",
       "  <tbody>\n",
       "    <tr>\n",
       "      <td>False</td>\n",
       "      <td>18000</td>\n",
       "    </tr>\n",
       "    <tr>\n",
       "      <td>True</td>\n",
       "      <td>12417</td>\n",
       "    </tr>\n",
       "  </tbody>\n",
       "</table>\n",
       "</div>"
      ],
      "text/plain": [
       "       Count\n",
       "False  18000\n",
       "True   12417"
      ]
     },
     "execution_count": 85,
     "metadata": {},
     "output_type": "execute_result"
    }
   ],
   "source": [
    "ldf_training_dataset_2.isFraud.value_counts().to_frame(\"Count\")"
   ]
  },
  {
   "cell_type": "markdown",
   "metadata": {},
   "source": [
    "##### Removing the duplicate transactions (Reversal and Multi-swipe)"
   ]
  },
  {
   "cell_type": "code",
   "execution_count": 86,
   "metadata": {
    "ExecuteTime": {
     "end_time": "2020-11-15T07:10:50.536104Z",
     "start_time": "2020-11-15T07:10:50.396393Z"
    }
   },
   "outputs": [],
   "source": [
    "ldf_training_dataset_3 = ldf_training_dataset_2[(ldf_training_dataset_2['transactionType']!=\"REVERSAL\") &\n",
    "                                           (ldf_training_dataset_2['IsDuplicate'] == False)]"
   ]
  },
  {
   "cell_type": "markdown",
   "metadata": {},
   "source": [
    "## 4.1 - Predictive model to determine whether a given transaction will be fraudulent or not"
   ]
  },
  {
   "cell_type": "markdown",
   "metadata": {},
   "source": [
    "#### Select input variables"
   ]
  },
  {
   "cell_type": "code",
   "execution_count": 87,
   "metadata": {
    "ExecuteTime": {
     "end_time": "2020-11-15T07:10:50.599165Z",
     "start_time": "2020-11-15T07:10:50.537375Z"
    }
   },
   "outputs": [],
   "source": [
    "input_col = ['creditLimit', 'transactionAmount', 'merchantCountryCode',\n",
    "            'merchantCategoryCode','cardPresent', 'posEntryMode', 'posConditionCode', \n",
    "            'acqCountry', 'currentBalance', 'isFraud']\n",
    "ldf_training_dataset_clf = ldf_training_dataset_3[input_col]"
   ]
  },
  {
   "cell_type": "markdown",
   "metadata": {},
   "source": [
    "#### Convert categorical columns to dummy variables "
   ]
  },
  {
   "cell_type": "code",
   "execution_count": 88,
   "metadata": {
    "ExecuteTime": {
     "end_time": "2020-11-15T07:10:50.837926Z",
     "start_time": "2020-11-15T07:10:50.601106Z"
    }
   },
   "outputs": [],
   "source": [
    "feature_dummy = pd.get_dummies(ldf_training_dataset_clf[\"creditLimit\"], prefix='FRAUD_CLASSIFIER_creditLimit')\n",
    "ldf_training_dataset_clf = pd.concat([ldf_training_dataset_clf, feature_dummy], axis = 1)\n",
    "ldf_training_dataset_clf.drop(\"creditLimit\", axis=1, inplace=True)\n",
    "\n",
    "feature_dummy = pd.get_dummies(ldf_training_dataset_clf[\"merchantCountryCode\"], prefix='FRAUD_CLASSIFIER_merchantCountryCode')\n",
    "ldf_training_dataset_clf = pd.concat([ldf_training_dataset_clf, feature_dummy], axis = 1)\n",
    "ldf_training_dataset_clf.drop(\"merchantCountryCode\", axis=1, inplace=True)\n",
    "\n",
    "feature_dummy = pd.get_dummies(ldf_training_dataset_clf[\"merchantCategoryCode\"], prefix='FRAUD_CLASSIFIER_merchantCategoryCode')\n",
    "ldf_training_dataset_clf = pd.concat([ldf_training_dataset_clf, feature_dummy], axis = 1)\n",
    "ldf_training_dataset_clf.drop(\"merchantCategoryCode\", axis=1, inplace=True)\n",
    "\n",
    "feature_dummy = pd.get_dummies(ldf_training_dataset_clf[\"cardPresent\"], prefix='FRAUD_CLASSIFIER_cardPresent')\n",
    "ldf_training_dataset_clf = pd.concat([ldf_training_dataset_clf, feature_dummy], axis = 1)\n",
    "ldf_training_dataset_clf.drop(\"cardPresent\", axis=1, inplace=True)\n",
    "\n",
    "feature_dummy = pd.get_dummies(ldf_training_dataset_clf[\"posEntryMode\"], prefix='FRAUD_CLASSIFIER_posEntryMode')\n",
    "ldf_training_dataset_clf = pd.concat([ldf_training_dataset_clf, feature_dummy], axis = 1)\n",
    "ldf_training_dataset_clf.drop(\"posEntryMode\", axis=1, inplace=True)\n",
    "\n",
    "feature_dummy = pd.get_dummies(ldf_training_dataset_clf[\"posConditionCode\"], prefix='FRAUD_CLASSIFIER_posConditionCode')\n",
    "ldf_training_dataset_clf = pd.concat([ldf_training_dataset_clf, feature_dummy], axis = 1)\n",
    "ldf_training_dataset_clf.drop(\"posConditionCode\", axis=1, inplace=True)\n",
    "\n",
    "feature_dummy = pd.get_dummies(ldf_training_dataset_clf[\"acqCountry\"], prefix='FRAUD_CLASSIFIER_acqCountry')\n",
    "ldf_training_dataset_clf = pd.concat([ldf_training_dataset_clf, feature_dummy], axis = 1)\n",
    "ldf_training_dataset_clf.drop(\"acqCountry\", axis=1, inplace=True)"
   ]
  },
  {
   "cell_type": "markdown",
   "metadata": {},
   "source": [
    "#### Train Test & Validation Split"
   ]
  },
  {
   "cell_type": "code",
   "execution_count": 97,
   "metadata": {
    "ExecuteTime": {
     "end_time": "2020-11-15T07:21:27.432943Z",
     "start_time": "2020-11-15T07:21:27.418980Z"
    }
   },
   "outputs": [],
   "source": [
    "y = ldf_training_dataset_clf.isFraud\n",
    "X = ldf_training_dataset_clf.drop(\"isFraud\", axis=1)\n",
    "\n",
    "my_tags = y"
   ]
  },
  {
   "cell_type": "code",
   "execution_count": 98,
   "metadata": {
    "ExecuteTime": {
     "end_time": "2020-11-15T07:21:28.190817Z",
     "start_time": "2020-11-15T07:21:28.006096Z"
    }
   },
   "outputs": [],
   "source": [
    "# splitting X and y into training and testing sets \n",
    "X_train, X_test, y_train, y_test = train_test_split(X, y, test_size=0.2, stratify=y, random_state=123, shuffle=True)"
   ]
  },
  {
   "cell_type": "code",
   "execution_count": 99,
   "metadata": {
    "ExecuteTime": {
     "end_time": "2020-11-15T07:23:00.399014Z",
     "start_time": "2020-11-15T07:23:00.383094Z"
    }
   },
   "outputs": [
    {
     "name": "stdout",
     "output_type": "stream",
     "text": [
      "(23459, 53)\n",
      "(23459,)\n",
      "(5865, 53)\n",
      "(5865,)\n"
     ]
    }
   ],
   "source": [
    "print(X_train.shape)\n",
    "print(y_train.shape)\n",
    "print(X_test.shape)\n",
    "print(y_test.shape)"
   ]
  },
  {
   "cell_type": "markdown",
   "metadata": {},
   "source": [
    "### Algorithm 1: Support Vector Machines\n",
    "\n",
    "Reason for choosing SVM:\n",
    "* SVM can easily handle multiple continuous and categorical variables. \n",
    "* It is known for its kernel trick to handle nonlinear input spaces\n",
    "* SVM constructs a hyperplane in multidimensional space to separate different classes. \n",
    "* SVM generates optimal hyperplane in an iterative manner, which is used to minimize an error."
   ]
  },
  {
   "cell_type": "markdown",
   "metadata": {},
   "source": [
    "##### Define a model"
   ]
  },
  {
   "cell_type": "code",
   "execution_count": 89,
   "metadata": {
    "ExecuteTime": {
     "end_time": "2020-11-15T07:13:31.959650Z",
     "start_time": "2020-11-15T07:13:31.936711Z"
    }
   },
   "outputs": [],
   "source": [
    "clf_svm = SGDClassifier(\n",
    "        loss='hinge',\n",
    "        penalty='l2',\n",
    "        alpha=1e-3,\n",
    "        random_state=42,\n",
    "        max_iter=5,\n",
    "        tol=None)"
   ]
  },
  {
   "cell_type": "markdown",
   "metadata": {},
   "source": [
    "##### Fit model on training data"
   ]
  },
  {
   "cell_type": "code",
   "execution_count": 102,
   "metadata": {
    "ExecuteTime": {
     "end_time": "2020-11-15T07:25:24.231420Z",
     "start_time": "2020-11-15T07:25:24.178605Z"
    }
   },
   "outputs": [],
   "source": [
    "svm_model = clf_svm.fit(X_train, y_train)"
   ]
  },
  {
   "cell_type": "markdown",
   "metadata": {},
   "source": [
    "##### Predicting on test data"
   ]
  },
  {
   "cell_type": "code",
   "execution_count": 103,
   "metadata": {
    "ExecuteTime": {
     "end_time": "2020-11-15T07:25:24.725925Z",
     "start_time": "2020-11-15T07:25:24.710965Z"
    }
   },
   "outputs": [],
   "source": [
    "svm_y_pred = svm_model.predict(X_test)"
   ]
  },
  {
   "cell_type": "markdown",
   "metadata": {},
   "source": [
    "##### Model evaluation metrics - Accuracy, Precision, Recall, F1 Score"
   ]
  },
  {
   "cell_type": "code",
   "execution_count": 95,
   "metadata": {
    "ExecuteTime": {
     "end_time": "2020-11-15T07:18:23.936608Z",
     "start_time": "2020-11-15T07:18:23.911043Z"
    }
   },
   "outputs": [
    {
     "data": {
      "text/plain": [
       "array([[3345,  124],\n",
       "       [2197,  193]], dtype=int64)"
      ]
     },
     "execution_count": 95,
     "metadata": {},
     "output_type": "execute_result"
    }
   ],
   "source": [
    "confusion_matrix(y_test,svm_y_pred)"
   ]
  },
  {
   "cell_type": "code",
   "execution_count": 109,
   "metadata": {
    "ExecuteTime": {
     "end_time": "2020-11-15T07:33:31.655862Z",
     "start_time": "2020-11-15T07:33:31.632923Z"
    }
   },
   "outputs": [
    {
     "name": "stdout",
     "output_type": "stream",
     "text": [
      "Accuracy 0.5815856777493607\n",
      "Precision: 0.6106529356873841\n",
      "Recall: 0.5815856777493607\n",
      "F1 score: 0.5920988526765774\n"
     ]
    }
   ],
   "source": [
    "print('Accuracy %s' % accuracy_score(svm_y_pred, y_test))\n",
    "print('Precision:', precision_score(svm_y_pred, y_test, average='weighted'))\n",
    "print('Recall:', recall_score(svm_y_pred, y_test,average='weighted'))\n",
    "print('F1 score:', f1_score(svm_y_pred, y_test,average='weighted'))"
   ]
  },
  {
   "cell_type": "markdown",
   "metadata": {},
   "source": [
    "### Algorithm 2: Light GBM (Light Gradient Boosting Machine Classifier)\n",
    "\n",
    "Reason for choosing Light GBM:\n",
    "* LightGBM enables the missing value handle by default.\n",
    "* LightGBM offers good accuracy with integer-encoded categorical features.\n",
    "* Data of large-scale can be handled.\n",
    "* Higher efficiency as well as faster training speed"
   ]
  },
  {
   "cell_type": "markdown",
   "metadata": {},
   "source": [
    "##### Define a model"
   ]
  },
  {
   "cell_type": "code",
   "execution_count": 112,
   "metadata": {
    "ExecuteTime": {
     "end_time": "2020-11-15T07:44:24.276356Z",
     "start_time": "2020-11-15T07:44:23.913700Z"
    }
   },
   "outputs": [],
   "source": [
    "clf_lgbm = lgb.LGBMClassifier()"
   ]
  },
  {
   "cell_type": "markdown",
   "metadata": {},
   "source": [
    "##### Fit model on training data"
   ]
  },
  {
   "cell_type": "code",
   "execution_count": null,
   "metadata": {},
   "outputs": [],
   "source": [
    "lgbm_model = clf_lgbm.fit(X_train, y_train)"
   ]
  },
  {
   "cell_type": "markdown",
   "metadata": {},
   "source": [
    "##### Predicting on test data"
   ]
  },
  {
   "cell_type": "code",
   "execution_count": null,
   "metadata": {},
   "outputs": [],
   "source": [
    "lgbm_y_pred = lgbm_model.predict(X_test)"
   ]
  },
  {
   "cell_type": "markdown",
   "metadata": {},
   "source": [
    "##### Model evaluation metrics - Accuracy, Precision, Recall, F1 Score"
   ]
  },
  {
   "cell_type": "code",
   "execution_count": 113,
   "metadata": {
    "ExecuteTime": {
     "end_time": "2020-11-15T07:44:25.133857Z",
     "start_time": "2020-11-15T07:44:25.124889Z"
    }
   },
   "outputs": [
    {
     "data": {
      "text/plain": [
       "array([[2767,  708],\n",
       "       [ 978, 1412]], dtype=int64)"
      ]
     },
     "execution_count": 113,
     "metadata": {},
     "output_type": "execute_result"
    }
   ],
   "source": [
    "confusion_matrix(y_test,lgbm_y_pred)"
   ]
  },
  {
   "cell_type": "code",
   "execution_count": 114,
   "metadata": {
    "ExecuteTime": {
     "end_time": "2020-11-15T07:44:26.075541Z",
     "start_time": "2020-11-15T07:44:26.061579Z"
    }
   },
   "outputs": [
    {
     "name": "stdout",
     "output_type": "stream",
     "text": [
      "Accuracy 0.7125319693094629\n",
      "Precision: 0.7219906707086257\n",
      "Recall: 0.7125319693094629\n",
      "F1 score: 0.7157617934315472\n"
     ]
    }
   ],
   "source": [
    "print('Accuracy %s' % accuracy_score(lgbm_y_pred, y_test))\n",
    "print('Precision:', precision_score(lgbm_y_pred, y_test, average='weighted'))\n",
    "print('Recall:', recall_score(lgbm_y_pred, y_test,average='weighted'))\n",
    "print('F1 score:', f1_score(lgbm_y_pred, y_test,average='weighted'))"
   ]
  },
  {
   "cell_type": "markdown",
   "metadata": {},
   "source": [
    "### Algorithm 3: XGB (Extreme Gradient Boost Classifier)\n",
    "\n",
    "Reason for choosing XGB:\n",
    "* XGB is an implementation of gradient boosted decision trees designed for speed and performance.\n",
    "* The key features of this model rely on model performance and execution speed. \n",
    "* XGBoost has an in-built capability to handle missing values. Hence, it can very effective for our modeling purpose."
   ]
  },
  {
   "cell_type": "markdown",
   "metadata": {},
   "source": [
    "##### Define a model"
   ]
  },
  {
   "cell_type": "code",
   "execution_count": 116,
   "metadata": {
    "ExecuteTime": {
     "end_time": "2020-11-15T07:52:30.048864Z",
     "start_time": "2020-11-15T07:52:30.034910Z"
    }
   },
   "outputs": [],
   "source": [
    "clf_xgb = XGBClassifier()"
   ]
  },
  {
   "cell_type": "markdown",
   "metadata": {},
   "source": [
    "##### Fit model on training data"
   ]
  },
  {
   "cell_type": "code",
   "execution_count": 117,
   "metadata": {
    "ExecuteTime": {
     "end_time": "2020-11-15T07:52:47.237123Z",
     "start_time": "2020-11-15T07:52:45.596512Z"
    }
   },
   "outputs": [],
   "source": [
    "xgb_model = clf_xgb.fit(X_train, y_train)"
   ]
  },
  {
   "cell_type": "markdown",
   "metadata": {},
   "source": [
    "##### Predicting on test data"
   ]
  },
  {
   "cell_type": "code",
   "execution_count": 118,
   "metadata": {
    "ExecuteTime": {
     "end_time": "2020-11-15T07:52:52.349846Z",
     "start_time": "2020-11-15T07:52:52.311996Z"
    }
   },
   "outputs": [],
   "source": [
    "xgb_y_pred = xgb_model.predict(X_test)"
   ]
  },
  {
   "cell_type": "markdown",
   "metadata": {},
   "source": [
    "##### Model evaluation metrics - Accuracy, Precision, Recall, F1 Score"
   ]
  },
  {
   "cell_type": "code",
   "execution_count": 119,
   "metadata": {
    "ExecuteTime": {
     "end_time": "2020-11-15T07:53:19.424366Z",
     "start_time": "2020-11-15T07:53:19.416413Z"
    }
   },
   "outputs": [
    {
     "data": {
      "text/plain": [
       "array([[2744,  731],\n",
       "       [1016, 1374]], dtype=int64)"
      ]
     },
     "execution_count": 119,
     "metadata": {},
     "output_type": "execute_result"
    }
   ],
   "source": [
    "confusion_matrix(y_test,xgb_y_pred)"
   ]
  },
  {
   "cell_type": "code",
   "execution_count": 120,
   "metadata": {
    "ExecuteTime": {
     "end_time": "2020-11-15T07:53:20.185997Z",
     "start_time": "2020-11-15T07:53:20.164551Z"
    }
   },
   "outputs": [
    {
     "name": "stdout",
     "output_type": "stream",
     "text": [
      "Accuracy 0.7021312872975277\n",
      "Precision: 0.7125664609940102\n",
      "Recall: 0.7021312872975277\n",
      "F1 score: 0.7057074896470532\n"
     ]
    }
   ],
   "source": [
    "print('Accuracy %s' % accuracy_score(xgb_y_pred, y_test))\n",
    "print('Precision:', precision_score(xgb_y_pred, y_test, average='weighted'))\n",
    "print('Recall:', recall_score(xgb_y_pred, y_test,average='weighted'))\n",
    "print('F1 score:', f1_score(xgb_y_pred, y_test,average='weighted'))"
   ]
  },
  {
   "cell_type": "markdown",
   "metadata": {},
   "source": [
    "<br>"
   ]
  },
  {
   "cell_type": "markdown",
   "metadata": {},
   "source": [
    "## 4-2 Use an estimate of performance using an appropriate sample"
   ]
  },
  {
   "cell_type": "markdown",
   "metadata": {},
   "source": [
    "### Model Performance Comparison"
   ]
  },
  {
   "cell_type": "code",
   "execution_count": 121,
   "metadata": {
    "ExecuteTime": {
     "end_time": "2020-11-15T08:01:26.754193Z",
     "start_time": "2020-11-15T08:01:26.704325Z"
    }
   },
   "outputs": [
    {
     "data": {
      "text/html": [
       "<div>\n",
       "<style scoped>\n",
       "    .dataframe tbody tr th:only-of-type {\n",
       "        vertical-align: middle;\n",
       "    }\n",
       "\n",
       "    .dataframe tbody tr th {\n",
       "        vertical-align: top;\n",
       "    }\n",
       "\n",
       "    .dataframe thead th {\n",
       "        text-align: right;\n",
       "    }\n",
       "</style>\n",
       "<table border=\"1\" class=\"dataframe\">\n",
       "  <thead>\n",
       "    <tr style=\"text-align: right;\">\n",
       "      <th></th>\n",
       "      <th>SVM</th>\n",
       "      <th>LGBM</th>\n",
       "      <th>XGB</th>\n",
       "    </tr>\n",
       "  </thead>\n",
       "  <tbody>\n",
       "    <tr>\n",
       "      <td>Accuracy</td>\n",
       "      <td>0.581586</td>\n",
       "      <td>0.712532</td>\n",
       "      <td>0.702131</td>\n",
       "    </tr>\n",
       "    <tr>\n",
       "      <td>Precision</td>\n",
       "      <td>0.610653</td>\n",
       "      <td>0.721991</td>\n",
       "      <td>0.712566</td>\n",
       "    </tr>\n",
       "    <tr>\n",
       "      <td>Recall</td>\n",
       "      <td>0.581586</td>\n",
       "      <td>0.712532</td>\n",
       "      <td>0.702131</td>\n",
       "    </tr>\n",
       "    <tr>\n",
       "      <td>F1-Score</td>\n",
       "      <td>0.592099</td>\n",
       "      <td>0.715762</td>\n",
       "      <td>0.705707</td>\n",
       "    </tr>\n",
       "  </tbody>\n",
       "</table>\n",
       "</div>"
      ],
      "text/plain": [
       "                SVM      LGBM       XGB\n",
       "Accuracy   0.581586  0.712532  0.702131\n",
       "Precision  0.610653  0.721991  0.712566\n",
       "Recall     0.581586  0.712532  0.702131\n",
       "F1-Score   0.592099  0.715762  0.705707"
      ]
     },
     "execution_count": 121,
     "metadata": {},
     "output_type": "execute_result"
    }
   ],
   "source": [
    "models = {'SVM': [accuracy_score(svm_y_pred, y_test),\n",
    "                      precision_score(svm_y_pred, y_test, average='weighted'),\n",
    "                      recall_score(svm_y_pred, y_test, average='weighted'),\n",
    "                      f1_score(svm_y_pred, y_test,average='weighted')],\n",
    "          'LGBM': [accuracy_score(lgbm_y_pred, y_test),\n",
    "                      precision_score(lgbm_y_pred, y_test, average='weighted'),\n",
    "                      recall_score(lgbm_y_pred, y_test,average='weighted'),\n",
    "                      f1_score(lgbm_y_pred, y_test,average='weighted')],\n",
    "          'XGB': [accuracy_score(xgb_y_pred, y_test),\n",
    "                      precision_score(xgb_y_pred, y_test, average='weighted'),\n",
    "                      recall_score(xgb_y_pred, y_test,average='weighted'),\n",
    "                      f1_score(xgb_y_pred, y_test,average='weighted')]\n",
    "         }\n",
    "\n",
    "df_models = pd.DataFrame(models, index=['Accuracy', 'Precision', 'Recall', 'F1-Score'])\n",
    "\n",
    "df_models"
   ]
  },
  {
   "cell_type": "code",
   "execution_count": 125,
   "metadata": {
    "ExecuteTime": {
     "end_time": "2020-11-15T08:03:03.798989Z",
     "start_time": "2020-11-15T08:03:03.588384Z"
    },
    "scrolled": false
   },
   "outputs": [
    {
     "data": {
      "image/png": "[encoded data removed]",
      "text/plain": [
       "<Figure size 1080x576 with 1 Axes>"
      ]
     },
     "metadata": {},
     "output_type": "display_data"
    }
   ],
   "source": [
    "plt.rcParams[\"figure.figsize\"] = (15,8)\n",
    "\n",
    "df_models.plot.bar(edgecolor = \"white\")\n",
    "plt.legend().set_visible(True)\n",
    "plt.title(\"Comparing Classification Performance of Multiple Algorithms\")\n",
    "plt.xticks(rotation = 0)\n",
    "plt.show()"
   ]
  },
  {
   "cell_type": "markdown",
   "metadata": {},
   "source": [
    "### Conclusion"
   ]
  },
  {
   "cell_type": "markdown",
   "metadata": {},
   "source": [
    "From the above, we can observe that **Light GBM** has the best performance compared to other algorithms at an overall level. "
   ]
  },
  {
   "cell_type": "markdown",
   "metadata": {},
   "source": [
    "#### For LGBM, which features are important for Fraud Identification"
   ]
  },
  {
   "cell_type": "code",
   "execution_count": 115,
   "metadata": {
    "ExecuteTime": {
     "end_time": "2020-11-15T07:44:30.767117Z",
     "start_time": "2020-11-15T07:44:30.242037Z"
    }
   },
   "outputs": [
    {
     "data": {
      "image/png": "[encoded data removed]",
      "text/plain": [
       "<Figure size 432x288 with 1 Axes>"
      ]
     },
     "metadata": {},
     "output_type": "display_data"
    }
   ],
   "source": [
    "feat_importances = pd.Series(lgbm_model.feature_importances_, index=X_test.columns)\n",
    "feat_importances.nsmallest(20).plot(kind='barh')\n",
    "plt.show()"
   ]
  },
  {
   "cell_type": "markdown",
   "metadata": {},
   "source": [
    "We can observe that the top 5 features for determining Fraud Transactions are:\n",
    "* posConditionCode=01\n",
    "* merchantCategoryCode=\"furniture\"\n",
    "* creditLimit=250\n",
    "* creditLimit=1000\n",
    "* acqCountry= \" \""
   ]
  },
  {
   "cell_type": "code",
   "execution_count": null,
   "metadata": {},
   "outputs": [],
   "source": []
  }
 ],
 "metadata": {
  "kernelspec": {
   "display_name": "Python 3",
   "language": "python",
   "name": "python3"
  },
  "language_info": {
   "codemirror_mode": {
    "name": "ipython",
    "version": 3
   },
   "file_extension": ".py",
   "mimetype": "text/x-python",
   "name": "python",
   "nbconvert_exporter": "python",
   "pygments_lexer": "ipython3",
   "version": "3.7.6"
  },
  "latex_envs": {
   "LaTeX_envs_menu_present": true,
   "autoclose": false,
   "autocomplete": true,
   "bibliofile": "biblio.bib",
   "cite_by": "apalike",
   "current_citInitial": 1,
   "eqLabelWithNumbers": true,
   "eqNumInitial": 1,
   "hotkeys": {
    "equation": "Ctrl-E",
    "itemize": "Ctrl-I"
   },
   "labels_anchors": false,
   "latex_user_defs": false,
   "report_style_numbering": false,
   "user_envs_cfg": false
  },
  "toc": {
   "base_numbering": 1,
   "nav_menu": {},
   "number_sections": false,
   "sideBar": true,
   "skip_h1_title": false,
   "title_cell": "Table of Contents",
   "title_sidebar": "Contents",
   "toc_cell": false,
   "toc_position": {},
   "toc_section_display": true,
   "toc_window_display": true
  }
 },
 "nbformat": 4,
 "nbformat_minor": 4
}
